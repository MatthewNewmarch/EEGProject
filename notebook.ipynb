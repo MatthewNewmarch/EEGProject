{
 "cells": [
  {
   "cell_type": "code",
   "execution_count": 4,
   "id": "ee151f19",
   "metadata": {},
   "outputs": [
    {
     "ename": "SyntaxError",
     "evalue": "Missing parentheses in call to 'print'. Did you mean print(...)? (NeuroPy.py, line 119)",
     "output_type": "error",
     "traceback": [
      "Traceback \u001b[36m(most recent call last)\u001b[39m:\n",
      "  File \u001b[92m~\\AppData\\Local\\Packages\\PythonSoftwareFoundation.Python.3.13_qbz5n2kfra8p0\\LocalCache\\local-packages\\Python313\\site-packages\\IPython\\core\\interactiveshell.py:3672\u001b[39m in \u001b[95mrun_code\u001b[39m\n    exec(code_obj, self.user_global_ns, self.user_ns)\n",
      "  Cell \u001b[92mIn[4]\u001b[39m\u001b[92m, line 1\u001b[39m\n    from NeuroPy import NeuroPy\n",
      "\u001b[36m  \u001b[39m\u001b[36mFile \u001b[39m\u001b[32m~\\AppData\\Local\\Packages\\PythonSoftwareFoundation.Python.3.13_qbz5n2kfra8p0\\LocalCache\\local-packages\\Python313\\site-packages\\NeuroPy\\__init__.py:1\u001b[39m\n\u001b[31m    \u001b[39m\u001b[31mfrom NeuroPy import NeuroPy\u001b[39m\n",
      "  \u001b[36mFile \u001b[39m\u001b[32m~\\AppData\\Local\\Packages\\PythonSoftwareFoundation.Python.3.13_qbz5n2kfra8p0\\LocalCache\\local-packages\\Python313\\site-packages\\NeuroPy\\NeuroPy.py:119\u001b[39m\n\u001b[31m    \u001b[39m\u001b[31mprint \"Mindwave has already started!\"\u001b[39m\n    ^\n\u001b[31mSyntaxError\u001b[39m\u001b[31m:\u001b[39m Missing parentheses in call to 'print'. Did you mean print(...)?\n"
     ]
    }
   ],
   "source": [
    "from NeuroPy import NeuroPy\n",
    "import time\n",
    "import threading\n",
    "\n",
    "# Replace with the correct COM port or device path\n",
    "# Example: COM3 for Windows, /dev/rfcomm0 for Linux\n",
    "PORT = \"COM3\"\n",
    "\n",
    "# Initialize headset\n",
    "headset = NeuroPy(PORT, 57600)\n",
    "\n",
    "# Callback functions\n",
    "def attention_callback(attention_value):\n",
    "    print(f\"[ATTENTION] {attention_value}\")\n",
    "\n",
    "def meditation_callback(meditation_value):\n",
    "    print(f\"[MEDITATION] {meditation_value}\")\n",
    "\n",
    "def raw_data_callback(raw_value):\n",
    "    print(f\"[RAW EEG] {raw_value}\")\n",
    "\n",
    "# Assign callbacks\n",
    "headset.setCallBack(\"attention\", attention_callback)\n",
    "headset.setCallBack(\"meditation\", meditation_callback)\n",
    "headset.setCallBack(\"rawValue\", raw_data_callback)\n",
    "\n",
    "# Run headset in a background thread\n",
    "def start_headset():\n",
    "    headset.start()\n",
    "\n",
    "# Start in a separate thread to avoid blocking\n",
    "t = threading.Thread(target=start_headset)\n",
    "t.daemon = True\n",
    "t.start()\n",
    "\n",
    "print(\"Reading data from MindWave Mobile 2. Press Ctrl+C to stop.\")\n",
    "try:\n",
    "    while True:\n",
    "        time.sleep(1)\n",
    "except KeyboardInterrupt:\n",
    "    print(\"\\nStopping data stream...\")\n",
    "    headset.stop()\n"
   ]
  }
 ],
 "metadata": {
  "kernelspec": {
   "display_name": "Python 3",
   "language": "python",
   "name": "python3"
  },
  "language_info": {
   "codemirror_mode": {
    "name": "ipython",
    "version": 3
   },
   "file_extension": ".py",
   "mimetype": "text/x-python",
   "name": "python",
   "nbconvert_exporter": "python",
   "pygments_lexer": "ipython3",
   "version": "3.13.3"
  }
 },
 "nbformat": 4,
 "nbformat_minor": 5
}
